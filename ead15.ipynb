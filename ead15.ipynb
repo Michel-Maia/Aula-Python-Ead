{
  "nbformat": 4,
  "nbformat_minor": 0,
  "metadata": {
    "colab": {
      "provenance": [],
      "authorship_tag": "ABX9TyOJ0wG1LjvDNk0f5eDKg7V2"
    },
    "kernelspec": {
      "name": "python3",
      "display_name": "Python 3"
    },
    "language_info": {
      "name": "python"
    }
  },
  "cells": [
    {
      "cell_type": "markdown",
      "source": [
        "exemplos aula"
      ],
      "metadata": {
        "id": "c03ONqoNJyLm"
      }
    },
    {
      "cell_type": "code",
      "execution_count": null,
      "metadata": {
        "id": "bef4NkCmBVU5"
      },
      "outputs": [],
      "source": [
        "def executar_busca_linear(lista, valor):\n",
        "  for elemento in lista:\n",
        "    if valor == elemento:\n",
        "      return True\n",
        "    return False"
      ]
    },
    {
      "cell_type": "code",
      "source": [],
      "metadata": {
        "id": "RfsTgPdNJ9Mk"
      },
      "execution_count": null,
      "outputs": []
    },
    {
      "cell_type": "code",
      "source": [
        "vogais = 'aeiou'\n",
        "resultado = vogais.index('e')\n",
        "print(resultado)"
      ],
      "metadata": {
        "colab": {
          "base_uri": "https://localhost:8080/"
        },
        "id": "RIJuqecQJ0X8",
        "outputId": "63677a3d-3030-492e-a398-fc48e55f1255"
      },
      "execution_count": null,
      "outputs": [
        {
          "output_type": "stream",
          "name": "stdout",
          "text": [
            "1\n"
          ]
        }
      ]
    },
    {
      "cell_type": "code",
      "source": [
        "vogais = ['a','e','i','o','u']\n",
        "\n",
        "for vogal in vogais:\n",
        "  print(f'Posição = {vogais.index(vogal)}, valor = {vogal}')"
      ],
      "metadata": {
        "colab": {
          "base_uri": "https://localhost:8080/"
        },
        "id": "JOyx64y1LXvt",
        "outputId": "a37ba2ea-f890-48c9-9e9f-2cb20d69cfc6"
      },
      "execution_count": null,
      "outputs": [
        {
          "output_type": "stream",
          "name": "stdout",
          "text": [
            "Posição = 0, valor = a\n",
            "Posição = 1, valor = e\n",
            "Posição = 2, valor = i\n",
            "Posição = 3, valor = o\n",
            "Posição = 4, valor = u\n"
          ]
        }
      ]
    }
  ]
}