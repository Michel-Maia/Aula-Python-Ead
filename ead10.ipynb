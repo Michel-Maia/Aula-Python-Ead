{
  "nbformat": 4,
  "nbformat_minor": 0,
  "metadata": {
    "colab": {
      "provenance": [],
      "authorship_tag": "ABX9TyMj/axUb8WBGAjcx/n+RobI"
    },
    "kernelspec": {
      "name": "python3",
      "display_name": "Python 3"
    },
    "language_info": {
      "name": "python"
    }
  },
  "cells": [
    {
      "cell_type": "code",
      "execution_count": 1,
      "metadata": {
        "id": "7vXERTjmf93I",
        "colab": {
          "base_uri": "https://localhost:8080/"
        },
        "outputId": "78e4d087-d76e-4cca-cbc8-2e94af329d84"
      },
      "outputs": [
        {
          "output_type": "execute_result",
          "data": {
            "text/plain": [
              "8"
            ]
          },
          "metadata": {},
          "execution_count": 1
        }
      ],
      "source": [
        "somar = lambda x, y: x + y\n",
        "somar(x=5, y=3)"
      ]
    },
    {
      "cell_type": "markdown",
      "source": [
        "Funções anônimas em python\n",
        "\n",
        "uma função anônima é uma função que não é contruída com o \"def\" e, por isso, não possui nome. Esse tipo de construção é útil, quando a função faz somente uma ação e é usada uma única vez. \n",
        "\n",
        "Poderoso recurso da linguagem Python: a expressão \"lambda\". "
      ],
      "metadata": {
        "id": "7wSactbwhL1F"
      }
    }
  ]
}