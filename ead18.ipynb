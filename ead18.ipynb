{
  "nbformat": 4,
  "nbformat_minor": 0,
  "metadata": {
    "colab": {
      "provenance": [],
      "authorship_tag": "ABX9TyPnncK0emGEchjNiEtAx5ra"
    },
    "kernelspec": {
      "name": "python3",
      "display_name": "Python 3"
    },
    "language_info": {
      "name": "python"
    }
  },
  "cells": [
    {
      "cell_type": "markdown",
      "source": [
        "Utiliza-se a palavra reservada \"class\" para indicar a criação de uma classe, seguida do nome e de dois pontos. No bloco indentado devem ser implementados os atributos e métodos da classe.\n",
        "\n",
        "class ClassName:\n",
        "     < statement-1 > \n",
        "   \n",
        "     < statement-N > "
      ],
      "metadata": {
        "id": "ibrrjamp0x6m"
      }
    },
    {
      "cell_type": "code",
      "source": [
        "class PrimeiraClasse:\n",
        "     nome = None\n",
        "     \n",
        "     def imprimir_mensagem(self):\n",
        "         print(\"Olá seja bem vindo!\")\n"
      ],
      "metadata": {
        "id": "FBPeuoU_08MB"
      },
      "execution_count": 1,
      "outputs": []
    },
    {
      "cell_type": "code",
      "source": [
        "objeto1 = PrimeiraClasse()\n",
        "objeto1.nome = \"Aluno 1\"\n",
        " \n",
        "print(objeto1.nome)\n",
        "objeto1.imprimir_mensagem()\n"
      ],
      "metadata": {
        "colab": {
          "base_uri": "https://localhost:8080/"
        },
        "id": "OM-PRhy81Tl1",
        "outputId": "d2f247d6-d560-4af6-be7a-d8130a46ac1e"
      },
      "execution_count": 2,
      "outputs": [
        {
          "output_type": "stream",
          "name": "stdout",
          "text": [
            "Aluno 1\n",
            "Olá seja bem vindo!\n"
          ]
        }
      ]
    },
    {
      "cell_type": "markdown",
      "source": [
        "Construtor da classe – __init__()\n",
        "Ao instanciar um novo objeto, é possível determinar um estado inicial para variáveis de instâncias (atributos) por meio do método construtor da classe."
      ],
      "metadata": {
        "id": "zmd-z-RZ4qa7"
      }
    },
    {
      "cell_type": "code",
      "source": [
        "class FuncionarioTecnico:\n",
        "  def __init__(self, status):\n",
        "    self.status = status\n",
        "    \n",
        "nivel = 'Técnico'\n",
        "func1 = FuncionarioTecnico('Ativo')\n",
        "func2 = FuncionarioTecnico('Licença Mestrado')\n",
        " \n",
        "\n",
        "\n",
        "print(func1.status)\n",
        "print(func2.status)"
      ],
      "metadata": {
        "colab": {
          "base_uri": "https://localhost:8080/"
        },
        "id": "OexSgmg25Omu",
        "outputId": "d60f6134-0b10-40dc-fb16-b3880c0efeca"
      },
      "execution_count": 6,
      "outputs": [
        {
          "output_type": "stream",
          "name": "stdout",
          "text": [
            "Ativo\n",
            "Licença Mestrado\n"
          ]
        }
      ]
    },
    {
      "cell_type": "markdown",
      "source": [
        "exemplo import "
      ],
      "metadata": {
        "id": "iF9cFrnyTbb_"
      }
    },
    {
      "cell_type": "markdown",
      "source": [
        "Importando todas as funcionalidades da biblioteca"
      ],
      "metadata": {
        "id": "LrihGvppTh84"
      }
    },
    {
      "cell_type": "code",
      "source": [
        "import math\n",
        " \n",
        "math.sqrt(25)\n",
        "math.log2(1024)\n",
        "math.cos(45)"
      ],
      "metadata": {
        "id": "_hoZn43STfXi"
      },
      "execution_count": null,
      "outputs": []
    },
    {
      "cell_type": "markdown",
      "source": [
        " Importando funcionalidades específicas de uma biblioteca"
      ],
      "metadata": {
        "id": "Qim-3fEZToBN"
      }
    },
    {
      "cell_type": "code",
      "source": [
        "from math import sqrt, log2, cos\n",
        " \n",
        "sqrt(25)\n",
        "log2(1024)\n",
        "cos(45)"
      ],
      "metadata": {
        "id": "4WtvOl_aTp6k"
      },
      "execution_count": null,
      "outputs": []
    }
  ]
}