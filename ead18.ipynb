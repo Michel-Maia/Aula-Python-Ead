{
  "nbformat": 4,
  "nbformat_minor": 0,
  "metadata": {
    "colab": {
      "provenance": [],
      "authorship_tag": "ABX9TyOgBlTjmQ9VT6WewLHnXJyl"
    },
    "kernelspec": {
      "name": "python3",
      "display_name": "Python 3"
    },
    "language_info": {
      "name": "python"
    }
  },
  "cells": [
    {
      "cell_type": "markdown",
      "source": [
        "Algoritmo de Ordenação por inserção (Insertion Sort)"
      ],
      "metadata": {
        "id": "PTWOecVc7xLR"
      }
    },
    {
      "cell_type": "code",
      "execution_count": 1,
      "metadata": {
        "colab": {
          "base_uri": "https://localhost:8080/"
        },
        "id": "V57vOIN07lPC",
        "outputId": "df22b015-a8d1-4678-ba31-fab9d527d74a"
      },
      "outputs": [
        {
          "output_type": "execute_result",
          "data": {
            "text/plain": [
              "[1, 2, 3, 7, 8, 10]"
            ]
          },
          "metadata": {},
          "execution_count": 1
        }
      ],
      "source": [
        "def executar_insertion_sort(lista):\n",
        "      n = len(lista)\n",
        "      for i in range(1, n):\n",
        "          valor_inserir = lista[i] \n",
        "          j = i - 1\n",
        "\t        \n",
        "          while j >= 0 and lista[j] > valor_inserir:\n",
        "            lista[j + 1] = lista[j]\n",
        "            j -= 1\n",
        "          lista[j + 1] = valor_inserir\n",
        "\t    \n",
        "      return lista\n",
        "\t\n",
        "\t\n",
        "lista = [10, 8, 7, 3, 2, 1]\n",
        "executar_insertion_sort(lista)"
      ]
    },
    {
      "cell_type": "markdown",
      "source": [
        "Algoritmo de ordenação por seleção (selection sort)\n",
        "Seleção pelo valor mínimo\n",
        "\n",
        "\n",
        "O princípio de funcionamento deste algoritmo é transferir o menor valor do vetor para a primeira posição e, em seguida, o segundo menor valor para a segunda posição, e assim sucessivamente, para os n-1 elementos até os últimos dois elementos."
      ],
      "metadata": {
        "id": "-1O8rrVJ8Znd"
      }
    },
    {
      "cell_type": "code",
      "source": [
        "def executar_selection_sort(lista):\n",
        "    n = len(lista)\n",
        "    \n",
        "    for i in range(0, n-1):\n",
        "        min = i\n",
        "        for j in range(i+1, n):\n",
        "            if lista[j] < lista[min]:\n",
        "                min = j\n",
        "        lista[i], lista[min] = lista[min], lista[i]\n",
        "    return lista\n",
        "\t\n",
        "\n",
        "lista = [10, 8, 7, 3, 2, 1]\n",
        "executar_selection_sort(lista)"
      ],
      "metadata": {
        "colab": {
          "base_uri": "https://localhost:8080/"
        },
        "id": "Hknol7mB9N7Y",
        "outputId": "5d829009-ff7a-4e83-eed4-5abcae664eec"
      },
      "execution_count": 2,
      "outputs": [
        {
          "output_type": "execute_result",
          "data": {
            "text/plain": [
              "[1, 2, 3, 7, 8, 10]"
            ]
          },
          "metadata": {},
          "execution_count": 2
        }
      ]
    },
    {
      "cell_type": "markdown",
      "source": [
        "Algoritmo de ordenação por bolha (bubble sort)\n",
        "O algoritmo de ordenação por bolha (ou flutuação) consiste naquele baseado em comparações, em que se percorre vetor ou lista múltiplas vezes. A cada passagem, os pares de elementos adjacentes do vetor são comparados e, depois disso, são trocados se não estiverem ordenados. Esse processo segue para todos os elementos não ordenados da lista.\n",
        "\n",
        "É importante destacar que esse tipo de algoritmo não é indicado para uma grande quantidade de dados."
      ],
      "metadata": {
        "id": "A7l0QTza9kaO"
      }
    },
    {
      "cell_type": "code",
      "source": [
        "def executar_bubble_sort(lista):\n",
        "    n = len(lista)\n",
        "    for i in range(n-1):\n",
        "        for j in range(n-1):\n",
        "            if lista[j] > lista[j + 1]:\n",
        "                lista[j], lista[j + 1] = lista[j + 1], lista[j]\n",
        "    return lista\n",
        "\n",
        "lista = [10, 8, 7, 3, 2, 1]\n",
        "executar_bubble_sort(lista)"
      ],
      "metadata": {
        "colab": {
          "base_uri": "https://localhost:8080/"
        },
        "id": "a4ZVPPyl9mCq",
        "outputId": "2c5d7eae-4834-4629-9bf5-f6d651cfbd4b"
      },
      "execution_count": 3,
      "outputs": [
        {
          "output_type": "execute_result",
          "data": {
            "text/plain": [
              "[1, 2, 3, 7, 8, 10]"
            ]
          },
          "metadata": {},
          "execution_count": 3
        }
      ]
    },
    {
      "cell_type": "markdown",
      "source": [
        "Algoritmo de ordenação merge sort\n",
        "O algoritmo de ordenação merge sort é baseado no princípio dividir para conquistar. Basicamente, o vetor é dividido em duas metades e, em seguida, novamente é dividido novamente em outras duas partes – ao repetir a divisão do vetor, em um determinado momento teremos vários vetores com apenas um elemento.\n",
        "\n",
        "Cada metade é ordenada recursivamente, bem como o são as partes com um elemento. Assim, realizamos a junção (merge) dos subvetores ordenados, iniciando a junção de dois a dois de todos os vetores de um elemento e gerando vetores de tamanho dois. Depois disso, o processo é repetido para vetores de tamanho três, quatro, e assim sucessivamente."
      ],
      "metadata": {
        "id": "5lZ6e3QT-B8A"
      }
    },
    {
      "cell_type": "code",
      "source": [
        "def executar_merge_sort(lista):\n",
        "    if len(lista) <= 1: return lista\n",
        "    else:\n",
        "        meio = len(lista) // 2\n",
        "        esquerda = executar_merge_sort(lista[:meio])\n",
        "        direita = executar_merge_sort(lista[meio:])\n",
        "        return executar_merge(esquerda, direita)\n",
        "\n",
        "    \n",
        "def executar_merge(esquerda, direita):\n",
        "    sub_lista_ordenada = []\n",
        "    topo_esquerda, topo_direita = 0, 0\n",
        "    while topo_esquerda < len(esquerda) and topo_direita < len(direita):\n",
        "        if esquerda[topo_esquerda] <= direita[topo_direita]:\n",
        "            sub_lista_ordenada.append(esquerda[topo_esquerda])\n",
        "            topo_esquerda += 1\n",
        "        else:\n",
        "            sub_lista_ordenada.append(direita[topo_direita])\n",
        "            topo_direita += 1\n",
        "    sub_lista_ordenada += esquerda[topo_esquerda:]\n",
        "    sub_lista_ordenada += direita[topo_direita:]\n",
        "    return sub_lista_ordenada\n",
        "\n",
        "\n",
        "lista = [10, 8, 7, 8, 3, 2, 1]\n",
        "executar_merge_sort(lista)"
      ],
      "metadata": {
        "colab": {
          "base_uri": "https://localhost:8080/"
        },
        "id": "ZBWjPKO2-QmI",
        "outputId": "c0605609-67ba-4091-8e61-14707ccee87f"
      },
      "execution_count": 4,
      "outputs": [
        {
          "output_type": "execute_result",
          "data": {
            "text/plain": [
              "[1, 2, 3, 7, 8, 8, 10]"
            ]
          },
          "metadata": {},
          "execution_count": 4
        }
      ]
    },
    {
      "cell_type": "markdown",
      "source": [
        "Algoritmo de ordenação quick sort\n",
        "No algoritmos quick sort, primeiramente escolhemos o pivô, que corresponde ao elemento do meio do vetor. Depois, nós trocamos os elementos no início do vetor com os elementos do final – até no início do vetor serão apenas esses elementos, os quais são menores ou iguais ao pivô; e no final do vetor, este permanecerá apenas com esses elementos, que são menores ou iguais ao pivô. Por fim, se no início ou no fim há mais que um elemento, repetimos todo o processo para essas partes (elementos)."
      ],
      "metadata": {
        "id": "TOGPlhCl_XLz"
      }
    },
    {
      "cell_type": "code",
      "source": [
        "def executar_quicksort(lista, inicio, fim):\n",
        "    if inicio < fim:\n",
        "        pivo = executar_particao(lista, inicio, fim)\n",
        "        executar_quicksort(lista, inicio, pivo-1)\n",
        "        executar_quicksort(lista, pivo+1, fim)\n",
        "    return lista\n",
        "\n",
        "        \n",
        "def executar_particao(lista, inicio, fim):\n",
        "    pivo = lista[fim]\n",
        "    esquerda = inicio\n",
        "    for direita in range(inicio, fim):\n",
        "        if lista[direita] <= pivo:\n",
        "            lista[direita], lista[esquerda] = lista[esquerda], lista[direita]\n",
        "            esquerda += 1\n",
        "    lista[esquerda], lista[fim] = lista[fim], lista[esquerda]\n",
        "    return esquerda\n",
        "\n",
        "lista = [10, 9, 5, 8, 11, -1, 3]\n",
        "executar_quicksort(lista, inicio=0, fim=len(lista)-1)"
      ],
      "metadata": {
        "colab": {
          "base_uri": "https://localhost:8080/"
        },
        "id": "m47iIAeo_ssk",
        "outputId": "0e9127f9-482c-41bd-dc41-588d2a48bc71"
      },
      "execution_count": 5,
      "outputs": [
        {
          "output_type": "execute_result",
          "data": {
            "text/plain": [
              "[-1, 3, 5, 8, 9, 10, 11]"
            ]
          },
          "metadata": {},
          "execution_count": 5
        }
      ]
    }
  ]
}