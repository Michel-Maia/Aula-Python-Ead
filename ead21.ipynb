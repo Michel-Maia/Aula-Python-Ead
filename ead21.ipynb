{
  "nbformat": 4,
  "nbformat_minor": 0,
  "metadata": {
    "colab": {
      "provenance": [],
      "authorship_tag": "ABX9TyPuVnIRFWZ5Hgn9uyxjhce3"
    },
    "kernelspec": {
      "name": "python3",
      "display_name": "Python 3"
    },
    "language_info": {
      "name": "python"
    }
  },
  "cells": [
    {
      "cell_type": "markdown",
      "source": [
        "Biblioteca matplotlib\n",
        "\n",
        "Método plt.plot(dados)\n",
        "Existem algumas opções de sintaxe para se criar figuras e eixos. Podemos deixar que a própria biblioteca gerencie para nós, dessa forma basta utilizar o método plt.plot(dados) que o gráfico será construído sobre uma figura e um eixo criados automaticamente.\n",
        "\n",
        "A forma automática, embora prática, não permite que o desenvolvedor tenha controle sobre o eixo que gostaria de plotar, nesse caso o ideal é criar, explicitamente, uma figura com os eixos, usando a função  plt.subplots().\n",
        "\n",
        "fig, ax = plt. Subplots (1, 1)"
      ],
      "metadata": {
        "id": "3nWKh0OGxllf"
      }
    },
    {
      "cell_type": "code",
      "source": [
        "import matplotlib "
      ],
      "metadata": {
        "id": "ZsZJDTjdyXns"
      },
      "execution_count": 2,
      "outputs": []
    },
    {
      "cell_type": "markdown",
      "source": [
        "Ao criar uma figura com mais de um eixo, temos que informar em qual vamos criar um gráfico. A variável “ax”, criada no último exemplo, é um vetor de eixos, ou seja, podemos acessar cada eixo pelo índice, começando por 0. \n",
        "\n",
        "exemplo\n",
        "\n",
        "fig, ax = plt. Subplots (1, 2)\n",
        " \n",
        "Dados = range(S)\n",
        " \n",
        "ax[0].plot(dados)\n",
        "ax[1].plot(dados)\n"
      ],
      "metadata": {
        "id": "pxGZus-DyvYp"
      }
    }
  ]
}