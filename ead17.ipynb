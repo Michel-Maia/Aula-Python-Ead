{
  "nbformat": 4,
  "nbformat_minor": 0,
  "metadata": {
    "colab": {
      "provenance": [],
      "authorship_tag": "ABX9TyPNR067k8B6l1lNpzvHLkH8"
    },
    "kernelspec": {
      "name": "python3",
      "display_name": "Python 3"
    },
    "language_info": {
      "name": "python"
    }
  },
  "cells": [
    {
      "cell_type": "code",
      "execution_count": 8,
      "metadata": {
        "id": "bh64-MU3PCfP",
        "colab": {
          "base_uri": "https://localhost:8080/"
        },
        "outputId": "e4fb6c9c-aaf9-43b3-a070-a0c3c2e49822"
      },
      "outputs": [
        {
          "output_type": "stream",
          "name": "stdout",
          "text": [
            "[3, 5, 8, 9, 10, 11]\n"
          ]
        }
      ],
      "source": [
        "def executar_selection_sort(lista):\n",
        "  n = len(lista)\n",
        "  for i in range(0, n):\n",
        "    index_menor = i\n",
        "    for j in range(i+1, n):\n",
        "      if lista[j] < lista[index_menor]:\n",
        "        index_menor = j\n",
        "      lista[i], lista[index_menor] = lista[index_menor], lista[i]\n",
        "  return lista\n",
        "\n",
        "lista = [10, 9, 5, 8, 11, 3]\n",
        "print(executar_selection_sort(lista))"
      ]
    }
  ]
}