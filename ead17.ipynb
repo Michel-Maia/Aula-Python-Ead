{
  "nbformat": 4,
  "nbformat_minor": 0,
  "metadata": {
    "colab": {
      "provenance": [],
      "authorship_tag": "ABX9TyN9iXzM2ml40VO23z9fquVT"
    },
    "kernelspec": {
      "name": "python3",
      "display_name": "Python 3"
    },
    "language_info": {
      "name": "python"
    }
  },
  "cells": [
    {
      "cell_type": "code",
      "execution_count": null,
      "metadata": {
        "id": "bh64-MU3PCfP",
        "colab": {
          "base_uri": "https://localhost:8080/"
        },
        "outputId": "e4fb6c9c-aaf9-43b3-a070-a0c3c2e49822"
      },
      "outputs": [
        {
          "output_type": "stream",
          "name": "stdout",
          "text": [
            "[3, 5, 8, 9, 10, 11]\n"
          ]
        }
      ],
      "source": [
        "def executar_selection_sort(lista):\n",
        "  n = len(lista)\n",
        "  for i in range(0, n):\n",
        "    index_menor = i\n",
        "    for j in range(i+1, n):\n",
        "      if lista[j] < lista[index_menor]:\n",
        "        index_menor = j\n",
        "      lista[i], lista[index_menor] = lista[index_menor], lista[i]\n",
        "  return lista\n",
        "\n",
        "lista = [10, 9, 5, 8, 11, 3]\n",
        "print(executar_selection_sort(lista))"
      ]
    },
    {
      "cell_type": "markdown",
      "source": [
        "algoritmo de busca sequencial que considera um vetor de entrada com números desordenados, estrutura de repetição “while”"
      ],
      "metadata": {
        "id": "bdHc6FtM2v-v"
      }
    },
    {
      "cell_type": "code",
      "source": [
        "def busca_sequencial(lista, elemento):\n",
        "     pos = 0 \n",
        "     encontrado = False\n",
        "     \n",
        "     while pos < len(lista) and not encontrado:\n",
        "          if lista[pos] == elemento:\n",
        "               encontrado = True\n",
        "          else:\n",
        "              pos = pos+1\n",
        "  \n",
        "          return encontrado\n",
        "   \n",
        "testelista = [2, 10, 8, 15, 18, 20, 12, 1]\n",
        "print(busca_sequencial(testelista, 5))\n",
        "print(busca_sequencial(testelista, 15))"
      ],
      "metadata": {
        "colab": {
          "base_uri": "https://localhost:8080/"
        },
        "id": "Wvg7tDYQ3gW6",
        "outputId": "8d058a4a-44b1-4889-f918-61e7af0af39a"
      },
      "execution_count": 7,
      "outputs": [
        {
          "output_type": "stream",
          "name": "stdout",
          "text": [
            "False\n",
            "False\n"
          ]
        }
      ]
    },
    {
      "cell_type": "markdown",
      "source": [
        "Busca sequencial em um vetor ordenado"
      ],
      "metadata": {
        "id": "S5FqYV9r4lK6"
      }
    },
    {
      "cell_type": "code",
      "source": [
        "def busca_sequencial_ordenada(lista, elemento):\n",
        "    pos = 0\n",
        "    encontrado = False\n",
        "    para = False\n",
        "    while pos < len(lista) and not encontrado and not para:\n",
        "           if lista[pos] == elemento:\n",
        "                encontrado = True\n",
        "           else:\n",
        "               if lista[pos] > elemento:\n",
        "                   para = True\n",
        "               else:  \n",
        "                   pos = pos+1\n",
        "  \n",
        "    return encontrado\n",
        "    \n",
        "testelista = [1, 2, 8, 10, 13, 15, 18, 20]\n",
        "print(busca_sequencial_ordenada(testelista, 5))\n",
        "print(busca_sequencial_ordenada(testelista, 15))"
      ],
      "metadata": {
        "colab": {
          "base_uri": "https://localhost:8080/"
        },
        "id": "m6sVFlnf4qWq",
        "outputId": "a7e26a35-e9ab-49c9-b554-d8ce882ba406"
      },
      "execution_count": 8,
      "outputs": [
        {
          "output_type": "stream",
          "name": "stdout",
          "text": [
            "False\n",
            "True\n"
          ]
        }
      ]
    },
    {
      "cell_type": "markdown",
      "source": [
        "Algoritmo de busca binária"
      ],
      "metadata": {
        "id": "-FonsKwW6Row"
      }
    },
    {
      "cell_type": "code",
      "source": [
        "def busca_binaria(lista, elemento):\n",
        "        minimo = 0 \n",
        "        maximo = len(lista)-1\n",
        "        encontrado = False\n",
        "    \n",
        "        while minimo <= maximo and not encontrado:\n",
        "            meio_lista = (minimo + maximo)//2\n",
        "            if lista[meio_lista] == elemento:\n",
        "                encontrado = True\n",
        "            else:\n",
        "                if elemento < lista[meio_lista]:\n",
        "                    maximo = meio_lista-1\n",
        "                else:\n",
        "                    minimo = meio_lista+1\n",
        "    \n",
        "        return encontrado\n",
        "    \n",
        "testelista = [1, 2, 3, 4, 5, 6, 7, 8, 9, 10, 11, 12, 13, 14, 15]\n",
        "print(busca_binaria(testelista, 14))"
      ],
      "metadata": {
        "colab": {
          "base_uri": "https://localhost:8080/"
        },
        "id": "txrOKhkb5ldr",
        "outputId": "4a5c02d9-48ca-4e4c-8685-c8bb356284e0"
      },
      "execution_count": 9,
      "outputs": [
        {
          "output_type": "stream",
          "name": "stdout",
          "text": [
            "True\n"
          ]
        }
      ]
    },
    {
      "cell_type": "code",
      "source": [
        "def busca_binaria(lista, elemento):\n",
        "        minimo = 0 \n",
        "        maximo = len(lista)-1\n",
        "        encontrado = False\n",
        "    \n",
        "        while minimo<= maximo and not encontrado:\n",
        "            meio_lista = (minimo + maximo)//2\n",
        "            if lista[meio_lista] == elemento:\n",
        "                encontrado = True\n",
        "            else:\n",
        "                if elemento < lista[meio_lista]:\n",
        "                    maximo = meio_lista-1\n",
        "                else:\n",
        "                    minimo = meio_lista+1\n",
        "    \n",
        "        return encontrado\n",
        "    \n",
        "testelista = [1, 2, 8, 10, 13, 15, 18, 20]\n",
        "print(busca_binaria(testelista, 5))\n",
        "print(busca_binaria(testelista, 15))"
      ],
      "metadata": {
        "colab": {
          "base_uri": "https://localhost:8080/"
        },
        "id": "6mGRuYFg6Xja",
        "outputId": "64fd2b5f-2a18-4ac0-fce1-821758ba46b3"
      },
      "execution_count": 10,
      "outputs": [
        {
          "output_type": "stream",
          "name": "stdout",
          "text": [
            "False\n",
            "True\n"
          ]
        }
      ]
    }
  ]
}