{
  "nbformat": 4,
  "nbformat_minor": 0,
  "metadata": {
    "colab": {
      "provenance": [],
      "authorship_tag": "ABX9TyOb7Gnukzdyc8yJOHgCKL7Q"
    },
    "kernelspec": {
      "name": "python3",
      "display_name": "Python 3"
    },
    "language_info": {
      "name": "python"
    }
  },
  "cells": [
    {
      "cell_type": "markdown",
      "source": [
        "Estrutura de dados em Python \n",
        "\n",
        "função split() usada para \"cortar\" um texto e transformá-lo em uma lista\n",
        "\n",
        "ela pode ser usada sem nunhum parâmetro: texto.split() \n",
        "a string será cortada a cada espaço em branco que for encontrado"
      ],
      "metadata": {
        "id": "SQ28wTwIMb4k"
      }
    },
    {
      "cell_type": "code",
      "execution_count": 2,
      "metadata": {
        "colab": {
          "base_uri": "https://localhost:8080/"
        },
        "id": "OZzcd43mMX1O",
        "outputId": "64ae4363-6a95-40ce-abed-b8bb47450570"
      },
      "outputs": [
        {
          "output_type": "stream",
          "name": "stdout",
          "text": [
            "texto = Aprendendo Python na disciplina de linguagem de programação\n",
            "Tamanho do texto = 59\n",
            "\n",
            "palavras = ['Aprendendo', 'Python', 'na', 'disciplina', 'de', 'linguagem', 'de', 'programação']\n",
            "Tamanho das palavras = 8\n"
          ]
        }
      ],
      "source": [
        "texto = \"Aprendendo Python na disciplina de linguagem de programação\"\n",
        "\n",
        "print(f\"texto = {texto}\")\n",
        "print(f\"Tamanho do texto = {len(texto)}\\n\")\n",
        "\n",
        "palavras = texto.split()\n",
        "\n",
        "print(f\"palavras = {palavras}\")\n",
        "print(f\"Tamanho das palavras = {len(palavras)}\")\n",
        "\n"
      ]
    }
  ]
}