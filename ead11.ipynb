{
  "nbformat": 4,
  "nbformat_minor": 0,
  "metadata": {
    "colab": {
      "provenance": [],
      "authorship_tag": "ABX9TyOzlJa0Qf6fIrq+PI7vE42x"
    },
    "kernelspec": {
      "name": "python3",
      "display_name": "Python 3"
    },
    "language_info": {
      "name": "python"
    }
  },
  "cells": [
    {
      "cell_type": "markdown",
      "source": [
        "Em Python, a identação é obrigatória sempre que houver um ou mais comandos subordinados a outro."
      ],
      "metadata": {
        "id": "rt_slwSFvHmc"
      }
    },
    {
      "cell_type": "code",
      "execution_count": 4,
      "metadata": {
        "colab": {
          "base_uri": "https://localhost:8080/"
        },
        "id": "NiE55a6Itd9r",
        "outputId": "2508f5ca-7b0c-43e1-97e4-b860872c522c"
      },
      "outputs": [
        {
          "output_type": "stream",
          "name": "stdout",
          "text": [
            "Compra a prazo no boleto\n"
          ]
        }
      ],
      "source": [
        "codigo_compra = 5333\n",
        "\n",
        "if codigo_compra == 5222: \n",
        "  print(\"Compra à vista\")\n",
        "elif codigo_compra == 5333:\n",
        "  print(\"Compra a prazo no boleto\")\n",
        "elif codigo_compra == 5444:\n",
        "  print(\"Compra a prazo no cartão\")\n",
        "else:\n",
        "  print(\"Código não cadastrado\")\n",
        "\n"
      ]
    },
    {
      "cell_type": "markdown",
      "source": [
        "exemplo\n",
        "Estrutura condicional"
      ],
      "metadata": {
        "id": "T7nrP9qtuLJP"
      }
    },
    {
      "cell_type": "code",
      "source": [
        "login = input(\"Digite o seu login:\")\n",
        "senha = input(\"Digite sua senha: \")\n",
        "if login == \"userpy\" and senha == \"teste123\":\n",
        "  print(\"Bem-vindo userpy01\")\n",
        "else:\n",
        "    print(\"Login falhou, verifique sua senha e tente novamente\")"
      ],
      "metadata": {
        "colab": {
          "base_uri": "https://localhost:8080/"
        },
        "id": "jjXTqT_lvTTg",
        "outputId": "5654de7b-ce02-418a-bf87-021fd3c25aea"
      },
      "execution_count": 7,
      "outputs": [
        {
          "output_type": "stream",
          "name": "stdout",
          "text": [
            "Digite o seu login:userpy\n",
            "Digite sua senha: teste123\n",
            "Bem-vindo userpy01\n"
          ]
        }
      ]
    }
  ]
}