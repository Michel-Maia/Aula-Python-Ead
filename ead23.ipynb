{
  "nbformat": 4,
  "nbformat_minor": 0,
  "metadata": {
    "colab": {
      "provenance": [],
      "authorship_tag": "ABX9TyNfRHyNKkoVW+bsy5VgPdoG"
    },
    "kernelspec": {
      "name": "python3",
      "display_name": "Python 3"
    },
    "language_info": {
      "name": "python"
    }
  },
  "cells": [
    {
      "cell_type": "code",
      "source": [
        "import pandas as pd\n"
      ],
      "metadata": {
        "id": "-yNt9cJPil21"
      },
      "execution_count": 1,
      "outputs": []
    },
    {
      "cell_type": "code",
      "execution_count": 2,
      "metadata": {
        "colab": {
          "base_uri": "https://localhost:8080/"
        },
        "id": "giGMayUNiH-p",
        "outputId": "304da539-f71a-4b6d-f898-e1eb5d2c36ca"
      },
      "outputs": [
        {
          "output_type": "stream",
          "name": "stdout",
          "text": [
            "<class 'list'>\n",
            "8\n"
          ]
        }
      ],
      "source": [
        "url = 'https://pt.wikipedia.org/wiki/Minnesota'\n",
        "\n",
        "dfs= pd.read_html(url)\n",
        "print(type(dfs))\n",
        "print(len(dfs))"
      ]
    }
  ]
}