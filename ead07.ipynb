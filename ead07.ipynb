{
  "nbformat": 4,
  "nbformat_minor": 0,
  "metadata": {
    "colab": {
      "provenance": [],
      "authorship_tag": "ABX9TyM+DpKnFltM9dPVWXFm2lW/"
    },
    "kernelspec": {
      "name": "python3",
      "display_name": "Python 3"
    },
    "language_info": {
      "name": "python"
    }
  },
  "cells": [
    {
      "cell_type": "code",
      "execution_count": 1,
      "metadata": {
        "colab": {
          "base_uri": "https://localhost:8080/"
        },
        "id": "jxFKM3WnZClh",
        "outputId": "e30fe06e-1224-4c72-d751-05921bc89529"
      },
      "outputs": [
        {
          "output_type": "stream",
          "name": "stdout",
          "text": [
            "\n",
            "Texto 1 = linguagem de programação\n",
            "\n",
            "Texto 2 = linguagem de programação\n"
          ]
        }
      ],
      "source": [
        "def converter_minuscula(texto, flag_minuscula=True): # o parâmetro flag_minuscula com valor default\n",
        "  if flag_minuscula:\n",
        "    return texto.lower()\n",
        "  else:\n",
        "    return text.upper()\n",
        "\n",
        "texto1 = converter_minuscula(flag_minuscula=True, texto=\"LINGUAGEM de Programação\")\n",
        "texto2 = converter_minuscula(texto=\"LINGUAGEM de Programação\")\n",
        "print(f\"\\nTexto 1 = {texto1}\")\n",
        "print(f\"\\nTexto 2 = {texto2}\")"
      ]
    },
    {
      "cell_type": "markdown",
      "source": [
        "Parâmetro nominal, obrigatório, com valor default(padrão), nesse grupo os parâmetros podem possuir valor default. "
      ],
      "metadata": {
        "id": "Nl_VTwINbQ4-"
      }
    }
  ]
}