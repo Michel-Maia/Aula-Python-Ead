{
  "nbformat": 4,
  "nbformat_minor": 0,
  "metadata": {
    "colab": {
      "provenance": [],
      "authorship_tag": "ABX9TyOl4JCs2rKHuSYwlpEiAZMZ"
    },
    "kernelspec": {
      "name": "python3",
      "display_name": "Python 3"
    },
    "language_info": {
      "name": "python"
    }
  },
  "cells": [
    {
      "cell_type": "code",
      "execution_count": 1,
      "metadata": {
        "colab": {
          "base_uri": "https://localhost:8080/"
        },
        "id": "G9L24zqWI-Ix",
        "outputId": "625d0aed-6c17-46d1-90eb-33cc75bc8228"
      },
      "outputs": [
        {
          "output_type": "execute_result",
          "data": {
            "text/plain": [
              "20"
            ]
          },
          "metadata": {},
          "execution_count": 1
        }
      ],
      "source": [
        "def calcular(*args):\n",
        "  r = sum(args)\n",
        "  for i in args:\n",
        "    r += i\n",
        "  return r\n",
        "\n",
        "calcular(1,4,5)"
      ]
    },
    {
      "cell_type": "code",
      "source": [
        "def procurar_valor(lista, valor):\n",
        "    minimo = 0\n",
        "    maximo = len(lista) - 1\n",
        "    while minimo <= maximo:\n",
        "        meio = (minimo + maximo) // 2\n",
        "        if valor < lista[meio]:\n",
        "            maximo = meio - 1\n",
        "        elif valor > lista[meio]:\n",
        "            minimo = meio + 1\n",
        "        else:\n",
        "            return meio\n",
        "    return None\n",
        "\n",
        "procurar_valor([0,1,24,7], 7)"
      ],
      "metadata": {
        "id": "f_bVx4lRKK-W"
      },
      "execution_count": 7,
      "outputs": []
    }
  ]
}