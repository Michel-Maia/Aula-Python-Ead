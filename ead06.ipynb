{
  "nbformat": 4,
  "nbformat_minor": 0,
  "metadata": {
    "colab": {
      "provenance": [],
      "authorship_tag": "ABX9TyNjIJYE457uMzRkeOWGh9+1"
    },
    "kernelspec": {
      "name": "python3",
      "display_name": "Python 3"
    },
    "language_info": {
      "name": "python"
    }
  },
  "cells": [
    {
      "cell_type": "code",
      "execution_count": null,
      "metadata": {
        "colab": {
          "base_uri": "https://localhost:8080/"
        },
        "id": "HH-2CqqiX2Xw",
        "outputId": "75f198d3-2cfa-475c-94fa-ed052df158ce"
      },
      "outputs": [
        {
          "output_type": "stream",
          "name": "stdout",
          "text": [
            "LILIAN\n"
          ]
        }
      ],
      "source": [
        "def converter_maiuscula(texto, flag_maiuscula):\n",
        "  if flag_maiuscula:\n",
        "    return texto.upper()\n",
        "  else:\n",
        "    return texto.lower()\n",
        "\n",
        "texto = converter_maiuscula(flag_maiuscula=True, texto=\"Lilian\") #passagem nominal de parâmetros\n",
        "print(texto)"
      ]
    },
    {
      "cell_type": "markdown",
      "source": [
        "Parâmetro nominal, obrigatório, sem valor default(padrão). Não mais importa a posição dos parâmetros, pois eles serão identificados pelo nome, a chamada da função é obrigatório passar todos os valores e sem valor default. "
      ],
      "metadata": {
        "id": "npeTZceOYdt4"
      }
    }
  ]
}