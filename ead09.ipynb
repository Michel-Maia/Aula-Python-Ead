{
  "nbformat": 4,
  "nbformat_minor": 0,
  "metadata": {
    "colab": {
      "provenance": [],
      "authorship_tag": "ABX9TyPCk0TBpB0KYHoj2eSnI1vh"
    },
    "kernelspec": {
      "name": "python3",
      "display_name": "Python 3"
    },
    "language_info": {
      "name": "python"
    }
  },
  "cells": [
    {
      "cell_type": "code",
      "execution_count": 1,
      "metadata": {
        "colab": {
          "base_uri": "https://localhost:8080/"
        },
        "id": "doPcm0ljd6sk",
        "outputId": "e6b9b3da-7ccc-4046-a314-95c14289d1dc"
      },
      "outputs": [
        {
          "output_type": "stream",
          "name": "stdout",
          "text": [
            "\n",
            "Chamada 1 \n",
            "Tipo de objeto recebido = <class 'dict'>\n",
            "\n",
            "Quantidade de parâmetros = 3\n",
            "variavel = cidade, valor = São Paulo\n",
            "variavel = idade, valor = 33\n",
            "variavel = nome, valor = Lilian\n",
            "\n",
            "Chamada 2\n",
            "Tipo de objeto recebido = <class 'dict'>\n",
            "\n",
            "Quantidade de parâmetros = 2\n",
            "variavel = desconto, valor = 10\n",
            "variavel = valor, valor = 100\n"
          ]
        }
      ],
      "source": [
        "def imprimir_parametros(**kwargs):\n",
        "  print(f\"Tipo de objeto recebido = {type(kwargs)}\\n\")\n",
        "  qtde_parametros = len(kwargs)\n",
        "  print(f\"Quantidade de parâmetros = {qtde_parametros}\")\n",
        "\n",
        "  for chave, valor in kwargs.items():\n",
        "    print(f\"variavel = {chave}, valor = {valor}\")\n",
        "\n",
        "print(\"\\nChamada 1 \")\n",
        "imprimir_parametros(cidade=\"São Paulo\", idade=33, nome=\"Lilian\")\n",
        "print(\"\\nChamada 2\")\n",
        "imprimir_parametros(desconto=10, valor=100)"
      ]
    },
    {
      "cell_type": "markdown",
      "source": [
        "Parâmetro nominal e não obrigatório (kwargs), agora a passagem é feita de modo nominal e não posicional, o que nos permite tanto o valor do parâmetro quanto o nome da variável que o armazena."
      ],
      "metadata": {
        "id": "nC5myVWre-xq"
      }
    }
  ]
}