{
  "nbformat": 4,
  "nbformat_minor": 0,
  "metadata": {
    "colab": {
      "provenance": [],
      "authorship_tag": "ABX9TyMxqMrg3g2ypFNTD8q4ZfVY"
    },
    "kernelspec": {
      "name": "python3",
      "display_name": "Python 3"
    },
    "language_info": {
      "name": "python"
    }
  },
  "cells": [
    {
      "cell_type": "code",
      "execution_count": 3,
      "metadata": {
        "colab": {
          "base_uri": "https://localhost:8080/"
        },
        "id": "cTtY7hw6bl2N",
        "outputId": "1a55f1ae-0b45-4615-fcc7-5f69c00d3487"
      },
      "outputs": [
        {
          "output_type": "stream",
          "name": "stdout",
          "text": [
            "\n",
            "Chamada 1\n",
            "Quantidade de parâmetros = 4\n",
            "\n",
            "Chamada 2\n",
            "Quantidade de parâmetros = 2\n"
          ]
        }
      ],
      "source": [
        "def imprimir_parametros(*args):\n",
        "  qtde_parametros = len(args)\n",
        "  print(f\"Quantidade de parâmetros = {qtde_parametros}\")\n",
        "\n",
        "for i, valor in enumerate(args):\n",
        "  print(f\"Posição = {i}, valor = {valor}\")\n",
        "\n",
        "print(\"\\nChamada 1\")\n",
        "imprimir_parametros(\"São Paulo\", 10,23.78, \"Lilian\")\n",
        "print(\"\\nChamada 2\")\n",
        "imprimir_parametros(10, \"São Paulo\")"
      ]
    },
    {
      "cell_type": "markdown",
      "source": [
        "Parâmetro posicional e não obrigatório(args), a passagem de valores é feita de modo posicional, porém a quantidade não é conhecida."
      ],
      "metadata": {
        "id": "ixaUrVQYcaiJ"
      }
    }
  ]
}