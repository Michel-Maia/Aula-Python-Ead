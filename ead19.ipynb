{
  "nbformat": 4,
  "nbformat_minor": 0,
  "metadata": {
    "colab": {
      "provenance": [],
      "authorship_tag": "ABX9TyNPoj+QSZm7rrjigAtYF6wU"
    },
    "kernelspec": {
      "name": "python3",
      "display_name": "Python 3"
    },
    "language_info": {
      "name": "python"
    }
  },
  "cells": [
    {
      "cell_type": "markdown",
      "source": [
        "O interpretador Python possui o módulo built-in sqlite3, que permite utilizar o mecanismo de banco de dados SQLite."
      ],
      "metadata": {
        "id": "m151H8crW-6q"
      }
    },
    {
      "cell_type": "code",
      "execution_count": 1,
      "metadata": {
        "id": "15H9a22qWvR6"
      },
      "outputs": [],
      "source": [
        "import sqlite3\n",
        " \n",
        "conn = sqlite3.connect('aulaDB.db')\n"
      ]
    },
    {
      "cell_type": "markdown",
      "source": [
        "Aplicação do CRUD no banco de dados SQLite"
      ],
      "metadata": {
        "id": "B9g7sR_PXopD"
      }
    },
    {
      "cell_type": "markdown",
      "source": [
        "**CREATE**\n",
        "\n",
        "A variável conn guarda a instância de conexão com o banco de dados"
      ],
      "metadata": {
        "id": "tFRkHng0XsL9"
      }
    },
    {
      "cell_type": "code",
      "source": [
        "cursor = conn.cursor()\n",
        "cursor.execute(\"\"\"\n",
        "INSERT INTO fornecedor (nome_fornecedor, cnpj, cidade, estado, cep, data_cadastro)\n",
        "VALUES ('Empresa A', '11.111.111/1111-11', 'São Paulo', 'SP', '11111-111', '2020-01-01')\n",
        "\"\"\")\n",
        "conn.commit()"
      ],
      "metadata": {
        "id": "60Hjv5RVYHMr"
      },
      "execution_count": null,
      "outputs": []
    },
    {
      "cell_type": "markdown",
      "source": [
        "**READ**\n",
        "\n",
        "Para ler os dados em uma tabela, também precisamos estabelecer uma conexão e criar um objeto cursor para executar a instrução de seleção. Ao executar a seleção, podemos usar o método fetchall(), para capturar todas as linhas mediante uma lista de tuplas."
      ],
      "metadata": {
        "id": "3YB4JaozYOA6"
      }
    },
    {
      "cell_type": "code",
      "source": [
        "cursor.execute(\"SELECT * FROM fornecedor\")\n",
        "resultado = cursor.fetchall()\n",
        "for linha in resultado:\n",
        "    print(linha)"
      ],
      "metadata": {
        "id": "eFuBwyGlYhrD"
      },
      "execution_count": null,
      "outputs": []
    },
    {
      "cell_type": "markdown",
      "source": [
        "**UPDATE**\n",
        "\n",
        "Ao inserir um registro no banco, pode ser necessário alterar o valor de uma coluna, o que pode ser feito por meio da instrução SQL UPDATE."
      ],
      "metadata": {
        "id": "2C5xdrpHYkPY"
      }
    },
    {
      "cell_type": "code",
      "source": [
        "cursor.execute(\"UPDATE fornecedor SET cidade = 'Campinas' WHERE id_fornecedor = 5\")\n",
        "conn.commit()  "
      ],
      "metadata": {
        "id": "8G0vtMo_Yrcn"
      },
      "execution_count": null,
      "outputs": []
    },
    {
      "cell_type": "markdown",
      "source": [
        "**DELETE**\n",
        "\n",
        "Ao inserir um registro no banco, pode ser necessário removê-lo no futuro, o que pode ser feito por meio da instrução SQL DELETE."
      ],
      "metadata": {
        "id": "s9vKNQvqYuUN"
      }
    },
    {
      "cell_type": "code",
      "source": [
        "cursor.execute(\"DELETE FROM fornecedor WHERE id_fornecedor = 2\") \n",
        "conn.commit() "
      ],
      "metadata": {
        "id": "Jz6S-DmLYx-3"
      },
      "execution_count": null,
      "outputs": []
    }
  ]
}