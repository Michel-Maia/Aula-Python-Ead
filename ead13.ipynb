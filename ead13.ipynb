{
  "nbformat": 4,
  "nbformat_minor": 0,
  "metadata": {
    "colab": {
      "provenance": [],
      "authorship_tag": "ABX9TyNOQG5sJ4djSQoy+C6no7kH"
    },
    "kernelspec": {
      "name": "python3",
      "display_name": "Python 3"
    },
    "language_info": {
      "name": "python"
    }
  },
  "cells": [
    {
      "cell_type": "code",
      "execution_count": null,
      "metadata": {
        "id": "gO-QENBRPtXF"
      },
      "outputs": [],
      "source": [
        "for variavel de controle in sequencia: \n",
        "  # bloco de comandos"
      ]
    },
    {
      "cell_type": "markdown",
      "source": [
        "uso do while \n",
        "\n",
        "- deve ser utilizado para construir e controlar a estrutura decisão, sempre que o número de repetições não seja conhecido. \n",
        "\n"
      ],
      "metadata": {
        "id": "ffRYkKCQQGAq"
      }
    },
    {
      "cell_type": "markdown",
      "source": [
        "exemplo uso do range()"
      ],
      "metadata": {
        "id": "S9a1injrQcmc"
      }
    },
    {
      "cell_type": "code",
      "source": [
        "list(range(10)) #gera uma sequência de 0 à 9\n"
      ],
      "metadata": {
        "colab": {
          "base_uri": "https://localhost:8080/"
        },
        "id": "-YDH7ZbzQgpt",
        "outputId": "234ae0fd-8d4b-421c-deeb-adf7032a7043"
      },
      "execution_count": 1,
      "outputs": [
        {
          "output_type": "execute_result",
          "data": {
            "text/plain": [
              "[0, 1, 2, 3, 4, 5, 6, 7, 8, 9]"
            ]
          },
          "metadata": {},
          "execution_count": 1
        }
      ]
    },
    {
      "cell_type": "code",
      "source": [
        "list(range(1,12)) #gera uma sequência de 1 à 11"
      ],
      "metadata": {
        "colab": {
          "base_uri": "https://localhost:8080/"
        },
        "id": "vZGELs1oQsAc",
        "outputId": "2d80fafa-160c-46ad-d9b7-80586df2249a"
      },
      "execution_count": 4,
      "outputs": [
        {
          "output_type": "execute_result",
          "data": {
            "text/plain": [
              "[1, 2, 3, 4, 5, 6, 7, 8, 9, 10, 11]"
            ]
          },
          "metadata": {},
          "execution_count": 4
        }
      ]
    },
    {
      "cell_type": "code",
      "source": [
        "list(range(0,30,5)) #gera uma sequência de 0 à 30 com step=5 (passando de 5 em 5)"
      ],
      "metadata": {
        "colab": {
          "base_uri": "https://localhost:8080/"
        },
        "id": "IUNesdr0RE9q",
        "outputId": "9f83ac3f-5a15-4ddd-f3cf-f7883e635f2d"
      },
      "execution_count": 5,
      "outputs": [
        {
          "output_type": "execute_result",
          "data": {
            "text/plain": [
              "[0, 5, 10, 15, 20, 25]"
            ]
          },
          "metadata": {},
          "execution_count": 5
        }
      ]
    },
    {
      "cell_type": "code",
      "source": [
        "list(range(0,-10,-1)) #gera uma sequência negativa"
      ],
      "metadata": {
        "colab": {
          "base_uri": "https://localhost:8080/"
        },
        "id": "L6WfDB-bRZXv",
        "outputId": "9b58fed2-1518-4e28-9f83-a71d899eae72"
      },
      "execution_count": 6,
      "outputs": [
        {
          "output_type": "execute_result",
          "data": {
            "text/plain": [
              "[0, -1, -2, -3, -4, -5, -6, -7, -8, -9]"
            ]
          },
          "metadata": {},
          "execution_count": 6
        }
      ]
    },
    {
      "cell_type": "code",
      "source": [
        "list(range(0)) #gera uma lista vazia"
      ],
      "metadata": {
        "colab": {
          "base_uri": "https://localhost:8080/"
        },
        "id": "zSlq35NrRlps",
        "outputId": "516191b9-e6cd-4079-b598-2bb73e99038e"
      },
      "execution_count": 7,
      "outputs": [
        {
          "output_type": "execute_result",
          "data": {
            "text/plain": [
              "[]"
            ]
          },
          "metadata": {},
          "execution_count": 7
        }
      ]
    },
    {
      "cell_type": "code",
      "source": [
        "contagem = 0\n",
        "for contagem in range(1,10):\n",
        "  print(contagem)"
      ],
      "metadata": {
        "colab": {
          "base_uri": "https://localhost:8080/"
        },
        "id": "KQQzdl_oSEjd",
        "outputId": "105b6f1e-cefd-4503-abea-f088df301589"
      },
      "execution_count": 8,
      "outputs": [
        {
          "output_type": "stream",
          "name": "stdout",
          "text": [
            "1\n",
            "2\n",
            "3\n",
            "4\n",
            "5\n",
            "6\n",
            "7\n",
            "8\n",
            "9\n"
          ]
        }
      ]
    },
    {
      "cell_type": "markdown",
      "source": [
        "while - enquanto a condição for verdadeira "
      ],
      "metadata": {
        "id": "SaIA8CjZSSZZ"
      }
    },
    {
      "cell_type": "code",
      "source": [
        "contagem = 0\n",
        "while(contagem < 10):\n",
        "  print(contagem)\n",
        "  contagem = contagem + 1"
      ],
      "metadata": {
        "colab": {
          "base_uri": "https://localhost:8080/"
        },
        "id": "6WyFVR5JSahj",
        "outputId": "291d99cb-2f46-4607-c295-1d68c3ec4ea0"
      },
      "execution_count": 9,
      "outputs": [
        {
          "output_type": "stream",
          "name": "stdout",
          "text": [
            "0\n",
            "1\n",
            "2\n",
            "3\n",
            "4\n",
            "5\n",
            "6\n",
            "7\n",
            "8\n",
            "9\n"
          ]
        }
      ]
    }
  ]
}